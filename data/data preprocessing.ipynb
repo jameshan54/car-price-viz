{
 "cells": [
  {
   "cell_type": "code",
   "execution_count": 59,
   "id": "dc12f61a",
   "metadata": {},
   "outputs": [],
   "source": [
    "import pandas as pd\n",
    "\n",
    "# # Sampling\n",
    "# df = pd.read_csv(\"data/car_sales_data.csv\")\n",
    "\n",
    "# sampled_df = df.sample(n=1000000, random_state=42)\n",
    "\n",
    "# sampled_df.to_csv(\"data/car_sales_data_sampled.csv\", index=False)\n"
   ]
  },
  {
   "cell_type": "code",
   "execution_count": 60,
   "id": "70f6c302",
   "metadata": {},
   "outputs": [],
   "source": [
    "df = pd.read_csv(\"car_sales_data_sampled.csv\")"
   ]
  },
  {
   "cell_type": "code",
   "execution_count": 61,
   "id": "1ee54997",
   "metadata": {},
   "outputs": [
    {
     "data": {
      "text/html": [
       "<div>\n",
       "<style scoped>\n",
       "    .dataframe tbody tr th:only-of-type {\n",
       "        vertical-align: middle;\n",
       "    }\n",
       "\n",
       "    .dataframe tbody tr th {\n",
       "        vertical-align: top;\n",
       "    }\n",
       "\n",
       "    .dataframe thead th {\n",
       "        text-align: right;\n",
       "    }\n",
       "</style>\n",
       "<table border=\"1\" class=\"dataframe\">\n",
       "  <thead>\n",
       "    <tr style=\"text-align: right;\">\n",
       "      <th></th>\n",
       "      <th>Date</th>\n",
       "      <th>Salesperson</th>\n",
       "      <th>Customer Name</th>\n",
       "      <th>Car Make</th>\n",
       "      <th>Car Model</th>\n",
       "      <th>Car Year</th>\n",
       "      <th>Sale Price</th>\n",
       "      <th>Commission Rate</th>\n",
       "      <th>Commission Earned</th>\n",
       "    </tr>\n",
       "  </thead>\n",
       "  <tbody>\n",
       "    <tr>\n",
       "      <th>0</th>\n",
       "      <td>6/19/2022</td>\n",
       "      <td>Rebecca Hampton</td>\n",
       "      <td>Joseph Gordon</td>\n",
       "      <td>Ford</td>\n",
       "      <td>Corolla</td>\n",
       "      <td>2013</td>\n",
       "      <td>32650</td>\n",
       "      <td>0.106302</td>\n",
       "      <td>3470.76</td>\n",
       "    </tr>\n",
       "    <tr>\n",
       "      <th>1</th>\n",
       "      <td>10/30/2022</td>\n",
       "      <td>Dustin Mcclure</td>\n",
       "      <td>George Young</td>\n",
       "      <td>Nissan</td>\n",
       "      <td>Silverado</td>\n",
       "      <td>2013</td>\n",
       "      <td>25102</td>\n",
       "      <td>0.123075</td>\n",
       "      <td>3089.43</td>\n",
       "    </tr>\n",
       "    <tr>\n",
       "      <th>2</th>\n",
       "      <td>10/21/2022</td>\n",
       "      <td>James Byrd</td>\n",
       "      <td>Jason Hampton</td>\n",
       "      <td>Honda</td>\n",
       "      <td>F-150</td>\n",
       "      <td>2014</td>\n",
       "      <td>30682</td>\n",
       "      <td>0.123758</td>\n",
       "      <td>3797.13</td>\n",
       "    </tr>\n",
       "    <tr>\n",
       "      <th>3</th>\n",
       "      <td>5/18/2022</td>\n",
       "      <td>Mary Hernandez</td>\n",
       "      <td>Julie Kirby</td>\n",
       "      <td>Chevrolet</td>\n",
       "      <td>Civic</td>\n",
       "      <td>2013</td>\n",
       "      <td>41999</td>\n",
       "      <td>0.082959</td>\n",
       "      <td>3484.21</td>\n",
       "    </tr>\n",
       "    <tr>\n",
       "      <th>4</th>\n",
       "      <td>6/23/2022</td>\n",
       "      <td>Paul Coleman</td>\n",
       "      <td>Amanda Brown</td>\n",
       "      <td>Honda</td>\n",
       "      <td>Corolla</td>\n",
       "      <td>2015</td>\n",
       "      <td>36086</td>\n",
       "      <td>0.144156</td>\n",
       "      <td>5202.01</td>\n",
       "    </tr>\n",
       "  </tbody>\n",
       "</table>\n",
       "</div>"
      ],
      "text/plain": [
       "         Date      Salesperson  Customer Name   Car Make  Car Model  Car Year  \\\n",
       "0   6/19/2022  Rebecca Hampton  Joseph Gordon       Ford    Corolla      2013   \n",
       "1  10/30/2022   Dustin Mcclure   George Young     Nissan  Silverado      2013   \n",
       "2  10/21/2022       James Byrd  Jason Hampton      Honda      F-150      2014   \n",
       "3   5/18/2022   Mary Hernandez    Julie Kirby  Chevrolet      Civic      2013   \n",
       "4   6/23/2022     Paul Coleman   Amanda Brown      Honda    Corolla      2015   \n",
       "\n",
       "   Sale Price  Commission Rate  Commission Earned  \n",
       "0       32650         0.106302            3470.76  \n",
       "1       25102         0.123075            3089.43  \n",
       "2       30682         0.123758            3797.13  \n",
       "3       41999         0.082959            3484.21  \n",
       "4       36086         0.144156            5202.01  "
      ]
     },
     "execution_count": 61,
     "metadata": {},
     "output_type": "execute_result"
    }
   ],
   "source": [
    "df.head()"
   ]
  },
  {
   "cell_type": "code",
   "execution_count": 62,
   "id": "779c6dae",
   "metadata": {},
   "outputs": [],
   "source": [
    "df = df[[\"Date\", \"Car Make\", \"Car Model\", \"Car Year\", \"Sale Price\"]]"
   ]
  },
  {
   "cell_type": "code",
   "execution_count": 63,
   "id": "9f33846e",
   "metadata": {},
   "outputs": [
    {
     "data": {
      "text/html": [
       "<div>\n",
       "<style scoped>\n",
       "    .dataframe tbody tr th:only-of-type {\n",
       "        vertical-align: middle;\n",
       "    }\n",
       "\n",
       "    .dataframe tbody tr th {\n",
       "        vertical-align: top;\n",
       "    }\n",
       "\n",
       "    .dataframe thead th {\n",
       "        text-align: right;\n",
       "    }\n",
       "</style>\n",
       "<table border=\"1\" class=\"dataframe\">\n",
       "  <thead>\n",
       "    <tr style=\"text-align: right;\">\n",
       "      <th></th>\n",
       "      <th>Date</th>\n",
       "      <th>Car Make</th>\n",
       "      <th>Car Model</th>\n",
       "      <th>Car Year</th>\n",
       "      <th>Sale Price</th>\n",
       "    </tr>\n",
       "  </thead>\n",
       "  <tbody>\n",
       "    <tr>\n",
       "      <th>0</th>\n",
       "      <td>6/19/2022</td>\n",
       "      <td>Ford</td>\n",
       "      <td>Corolla</td>\n",
       "      <td>2013</td>\n",
       "      <td>32650</td>\n",
       "    </tr>\n",
       "    <tr>\n",
       "      <th>1</th>\n",
       "      <td>10/30/2022</td>\n",
       "      <td>Nissan</td>\n",
       "      <td>Silverado</td>\n",
       "      <td>2013</td>\n",
       "      <td>25102</td>\n",
       "    </tr>\n",
       "    <tr>\n",
       "      <th>2</th>\n",
       "      <td>10/21/2022</td>\n",
       "      <td>Honda</td>\n",
       "      <td>F-150</td>\n",
       "      <td>2014</td>\n",
       "      <td>30682</td>\n",
       "    </tr>\n",
       "    <tr>\n",
       "      <th>3</th>\n",
       "      <td>5/18/2022</td>\n",
       "      <td>Chevrolet</td>\n",
       "      <td>Civic</td>\n",
       "      <td>2013</td>\n",
       "      <td>41999</td>\n",
       "    </tr>\n",
       "    <tr>\n",
       "      <th>4</th>\n",
       "      <td>6/23/2022</td>\n",
       "      <td>Honda</td>\n",
       "      <td>Corolla</td>\n",
       "      <td>2015</td>\n",
       "      <td>36086</td>\n",
       "    </tr>\n",
       "  </tbody>\n",
       "</table>\n",
       "</div>"
      ],
      "text/plain": [
       "         Date   Car Make  Car Model  Car Year  Sale Price\n",
       "0   6/19/2022       Ford    Corolla      2013       32650\n",
       "1  10/30/2022     Nissan  Silverado      2013       25102\n",
       "2  10/21/2022      Honda      F-150      2014       30682\n",
       "3   5/18/2022  Chevrolet      Civic      2013       41999\n",
       "4   6/23/2022      Honda    Corolla      2015       36086"
      ]
     },
     "execution_count": 63,
     "metadata": {},
     "output_type": "execute_result"
    }
   ],
   "source": [
    "df.head()"
   ]
  },
  {
   "cell_type": "code",
   "execution_count": 64,
   "id": "b326702c",
   "metadata": {},
   "outputs": [],
   "source": [
    "# No missing values\n",
    "\n",
    "# df.info()\n",
    "# df.isnull().sum()"
   ]
  },
  {
   "cell_type": "code",
   "execution_count": 65,
   "id": "55cbf397",
   "metadata": {},
   "outputs": [],
   "source": [
    "# No outliers\n",
    "\n",
    "# df[\"Sale Price\"].describe()\n",
    "# sns.boxplot(x=df[\"Sale Price\"])\n"
   ]
  },
  {
   "cell_type": "code",
   "execution_count": 66,
   "id": "c9b9f757",
   "metadata": {},
   "outputs": [],
   "source": [
    "# df.dtypes"
   ]
  },
  {
   "cell_type": "code",
   "execution_count": 67,
   "id": "d3488a9a",
   "metadata": {},
   "outputs": [],
   "source": [
    "df[\"Date\"] = pd.to_datetime(df[\"Date\"])"
   ]
  },
  {
   "cell_type": "code",
   "execution_count": 68,
   "id": "d4b9787a",
   "metadata": {},
   "outputs": [],
   "source": [
    "df[\"YearMonth\"] = df[\"Date\"].dt.to_period(\"M\") # ex) 2022-06"
   ]
  },
  {
   "cell_type": "code",
   "execution_count": 69,
   "id": "8fd6ac43",
   "metadata": {},
   "outputs": [],
   "source": [
    "df[\"Month\"] = df[\"Date\"].dt.month # ex) 6"
   ]
  },
  {
   "cell_type": "code",
   "execution_count": 70,
   "id": "b313bd79",
   "metadata": {},
   "outputs": [],
   "source": [
    "def get_season(month):\n",
    "    if month in [12, 1, 2]:\n",
    "        return \"Winter\"\n",
    "    elif month in [3, 4, 5]:\n",
    "        return \"Spring\"\n",
    "    elif month in [6, 7, 8]:\n",
    "        return \"Summer\"\n",
    "    else:\n",
    "        return \"Fall\"\n",
    "\n",
    "df[\"Season\"] = df[\"Month\"].apply(get_season)"
   ]
  },
  {
   "cell_type": "code",
   "execution_count": 71,
   "id": "708ffe40",
   "metadata": {},
   "outputs": [
    {
     "data": {
      "text/html": [
       "<div>\n",
       "<style scoped>\n",
       "    .dataframe tbody tr th:only-of-type {\n",
       "        vertical-align: middle;\n",
       "    }\n",
       "\n",
       "    .dataframe tbody tr th {\n",
       "        vertical-align: top;\n",
       "    }\n",
       "\n",
       "    .dataframe thead th {\n",
       "        text-align: right;\n",
       "    }\n",
       "</style>\n",
       "<table border=\"1\" class=\"dataframe\">\n",
       "  <thead>\n",
       "    <tr style=\"text-align: right;\">\n",
       "      <th></th>\n",
       "      <th>Date</th>\n",
       "      <th>Car Make</th>\n",
       "      <th>Car Model</th>\n",
       "      <th>Car Year</th>\n",
       "      <th>Sale Price</th>\n",
       "      <th>YearMonth</th>\n",
       "      <th>Month</th>\n",
       "      <th>Season</th>\n",
       "    </tr>\n",
       "  </thead>\n",
       "  <tbody>\n",
       "    <tr>\n",
       "      <th>0</th>\n",
       "      <td>2022-06-19</td>\n",
       "      <td>Ford</td>\n",
       "      <td>Corolla</td>\n",
       "      <td>2013</td>\n",
       "      <td>32650</td>\n",
       "      <td>2022-06</td>\n",
       "      <td>6</td>\n",
       "      <td>Summer</td>\n",
       "    </tr>\n",
       "    <tr>\n",
       "      <th>1</th>\n",
       "      <td>2022-10-30</td>\n",
       "      <td>Nissan</td>\n",
       "      <td>Silverado</td>\n",
       "      <td>2013</td>\n",
       "      <td>25102</td>\n",
       "      <td>2022-10</td>\n",
       "      <td>10</td>\n",
       "      <td>Fall</td>\n",
       "    </tr>\n",
       "    <tr>\n",
       "      <th>2</th>\n",
       "      <td>2022-10-21</td>\n",
       "      <td>Honda</td>\n",
       "      <td>F-150</td>\n",
       "      <td>2014</td>\n",
       "      <td>30682</td>\n",
       "      <td>2022-10</td>\n",
       "      <td>10</td>\n",
       "      <td>Fall</td>\n",
       "    </tr>\n",
       "    <tr>\n",
       "      <th>3</th>\n",
       "      <td>2022-05-18</td>\n",
       "      <td>Chevrolet</td>\n",
       "      <td>Civic</td>\n",
       "      <td>2013</td>\n",
       "      <td>41999</td>\n",
       "      <td>2022-05</td>\n",
       "      <td>5</td>\n",
       "      <td>Spring</td>\n",
       "    </tr>\n",
       "    <tr>\n",
       "      <th>4</th>\n",
       "      <td>2022-06-23</td>\n",
       "      <td>Honda</td>\n",
       "      <td>Corolla</td>\n",
       "      <td>2015</td>\n",
       "      <td>36086</td>\n",
       "      <td>2022-06</td>\n",
       "      <td>6</td>\n",
       "      <td>Summer</td>\n",
       "    </tr>\n",
       "  </tbody>\n",
       "</table>\n",
       "</div>"
      ],
      "text/plain": [
       "        Date   Car Make  Car Model  Car Year  Sale Price YearMonth  Month  \\\n",
       "0 2022-06-19       Ford    Corolla      2013       32650   2022-06      6   \n",
       "1 2022-10-30     Nissan  Silverado      2013       25102   2022-10     10   \n",
       "2 2022-10-21      Honda      F-150      2014       30682   2022-10     10   \n",
       "3 2022-05-18  Chevrolet      Civic      2013       41999   2022-05      5   \n",
       "4 2022-06-23      Honda    Corolla      2015       36086   2022-06      6   \n",
       "\n",
       "   Season  \n",
       "0  Summer  \n",
       "1    Fall  \n",
       "2    Fall  \n",
       "3  Spring  \n",
       "4  Summer  "
      ]
     },
     "execution_count": 71,
     "metadata": {},
     "output_type": "execute_result"
    }
   ],
   "source": [
    "df.head()"
   ]
  },
  {
   "cell_type": "markdown",
   "id": "96dc1cf0",
   "metadata": {},
   "source": [
    "# Monthly Price Trend"
   ]
  },
  {
   "cell_type": "code",
   "execution_count": 83,
   "id": "85f32397",
   "metadata": {},
   "outputs": [],
   "source": [
    "price_trend = (\n",
    "    df.groupby([\"Car Make\", \"Car Model\", \"Car Year\", \"YearMonth\"])[\"Sale Price\"]\n",
    "      .mean()\n",
    "      .reset_index(name=\"Average Price\")\n",
    ")\n"
   ]
  },
  {
   "cell_type": "code",
   "execution_count": 73,
   "id": "54a95f43",
   "metadata": {},
   "outputs": [],
   "source": [
    "price_trend = price_trend.sort_values(by=[\"Car Make\", \"Car Model\", \"Car Year\", \"YearMonth\"])\n"
   ]
  },
  {
   "cell_type": "code",
   "execution_count": 74,
   "id": "79db91b8",
   "metadata": {},
   "outputs": [
    {
     "data": {
      "image/png": "[encoded data removed]",
      "text/plain": [
       "<Figure size 1000x500 with 1 Axes>"
      ]
     },
     "metadata": {},
     "output_type": "display_data"
    }
   ],
   "source": [
    "import matplotlib.pyplot as plt\n",
    "\n",
    "# 예: 특정 차종만 필터링\n",
    "filtered = price_trend[\n",
    "    (price_trend[\"Car Make\"] == \"Honda\") &\n",
    "    (price_trend[\"Car Model\"] == \"Civic\") &\n",
    "    (price_trend[\"Car Year\"] == 2013)\n",
    "]\n",
    "\n",
    "plt.figure(figsize=(10, 5))\n",
    "plt.plot(filtered[\"YearMonth\"].astype(str), filtered[\"Average Price\"], marker=\"o\")\n",
    "plt.title(\"Monthly Price Trend: Honda Civic 2013\")\n",
    "plt.xlabel(\"Month\")\n",
    "plt.ylabel(\"Average Price\")\n",
    "plt.xticks(rotation=45)\n",
    "plt.grid(True)\n",
    "plt.tight_layout()\n",
    "plt.show()\n"
   ]
  },
  {
   "cell_type": "code",
   "execution_count": 81,
   "id": "055ae3d8",
   "metadata": {},
   "outputs": [
    {
     "data": {
      "text/plain": [
       "YearMonth\n",
       "2022-05    216\n",
       "2022-06    209\n",
       "2022-07    238\n",
       "2022-08    254\n",
       "2022-09    231\n",
       "2022-10    216\n",
       "2022-11    230\n",
       "2022-12    258\n",
       "2023-01    235\n",
       "2023-02    210\n",
       "2023-03    231\n",
       "2023-04    205\n",
       "2023-05      2\n",
       "Freq: M, dtype: int64"
      ]
     },
     "execution_count": 81,
     "metadata": {},
     "output_type": "execute_result"
    }
   ],
   "source": [
    "# Why huge drop in 2\n",
    "\n",
    "df[\n",
    "    (df[\"Car Make\"] == \"Honda\") &\n",
    "    (df[\"Car Model\"] == \"Civic\") &\n",
    "    (df[\"Car Year\"] == 2013)\n",
    "].groupby(\"YearMonth\").size()\n"
   ]
  },
  {
   "cell_type": "markdown",
   "id": "b3efabeb",
   "metadata": {},
   "source": [
    "# Seasonal Price Trend"
   ]
  },
  {
   "cell_type": "code",
   "execution_count": 84,
   "id": "06139b56",
   "metadata": {},
   "outputs": [],
   "source": [
    "# seasonal_price = (\n",
    "#     df.groupby(\"Season\")[\"Sale Price\"]\n",
    "#       .mean()\n",
    "#       .reset_index(name=\"Average Price\")\n",
    "#       .sort_values(by=\"Average Price\", ascending=False)\n",
    "# )"
   ]
  },
  {
   "cell_type": "code",
   "execution_count": 85,
   "id": "960f1e09",
   "metadata": {
    "scrolled": true
   },
   "outputs": [
    {
     "data": {
      "image/png": "[encoded data removed]",
      "text/plain": [
       "<Figure size 640x480 with 1 Axes>"
      ]
     },
     "metadata": {},
     "output_type": "display_data"
    }
   ],
   "source": [
    "# sns.barplot(data=seasonal_price, x=\"Season\", y=\"Average Price\")\n",
    "# plt.title(\"Average Used Car Price by Season\")\n",
    "# plt.ylabel(\"Average Sale Price\")\n",
    "# plt.xlabel(\"Season\")\n",
    "# plt.show()\n"
   ]
  },
  {
   "cell_type": "code",
   "execution_count": null,
   "id": "368e74de",
   "metadata": {},
   "outputs": [],
   "source": []
  },
  {
   "cell_type": "code",
   "execution_count": null,
   "id": "59e6ba15",
   "metadata": {},
   "outputs": [],
   "source": []
  }
 ],
 "metadata": {
  "kernelspec": {
   "display_name": "Python 3 (ipykernel)",
   "language": "python",
   "name": "python3"
  },
  "language_info": {
   "codemirror_mode": {
    "name": "ipython",
    "version": 3
   },
   "file_extension": ".py",
   "mimetype": "text/x-python",
   "name": "python",
   "nbconvert_exporter": "python",
   "pygments_lexer": "ipython3",
   "version": "3.11.5"
  }
 },
 "nbformat": 4,
 "nbformat_minor": 5
}
