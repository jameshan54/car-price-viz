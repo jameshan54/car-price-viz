{
 "cells": [
  {
   "cell_type": "code",
   "execution_count": 1,
   "id": "dc12f61a",
   "metadata": {},
   "outputs": [],
   "source": [
    "import pandas as pd\n",
    "\n",
    "# # Sampling\n",
    "# df = pd.read_csv(\"data/car_sales_data.csv\")\n",
    "\n",
    "# sampled_df = df.sample(n=1000000, random_state=42)\n",
    "\n",
    "# sampled_df.to_csv(\"data/car_sales_data_sampled.csv\", index=False)\n"
   ]
  },
  {
   "cell_type": "code",
   "execution_count": 3,
   "id": "a4dc8a58",
   "metadata": {},
   "outputs": [],
   "source": [
    "df = pd.read_csv(\"car_sales_data_sampled.csv\")"
   ]
  },
  {
   "cell_type": "code",
   "execution_count": 4,
   "id": "046c1b81",
   "metadata": {},
   "outputs": [
    {
     "data": {
      "text/html": [
       "<div>\n",
       "<style scoped>\n",
       "    .dataframe tbody tr th:only-of-type {\n",
       "        vertical-align: middle;\n",
       "    }\n",
       "\n",
       "    .dataframe tbody tr th {\n",
       "        vertical-align: top;\n",
       "    }\n",
       "\n",
       "    .dataframe thead th {\n",
       "        text-align: right;\n",
       "    }\n",
       "</style>\n",
       "<table border=\"1\" class=\"dataframe\">\n",
       "  <thead>\n",
       "    <tr style=\"text-align: right;\">\n",
       "      <th></th>\n",
       "      <th>Date</th>\n",
       "      <th>Salesperson</th>\n",
       "      <th>Customer Name</th>\n",
       "      <th>Car Make</th>\n",
       "      <th>Car Model</th>\n",
       "      <th>Car Year</th>\n",
       "      <th>Sale Price</th>\n",
       "      <th>Commission Rate</th>\n",
       "      <th>Commission Earned</th>\n",
       "    </tr>\n",
       "  </thead>\n",
       "  <tbody>\n",
       "    <tr>\n",
       "      <th>0</th>\n",
       "      <td>6/19/2022</td>\n",
       "      <td>Rebecca Hampton</td>\n",
       "      <td>Joseph Gordon</td>\n",
       "      <td>Ford</td>\n",
       "      <td>Corolla</td>\n",
       "      <td>2013</td>\n",
       "      <td>32650</td>\n",
       "      <td>0.106302</td>\n",
       "      <td>3470.76</td>\n",
       "    </tr>\n",
       "    <tr>\n",
       "      <th>1</th>\n",
       "      <td>10/30/2022</td>\n",
       "      <td>Dustin Mcclure</td>\n",
       "      <td>George Young</td>\n",
       "      <td>Nissan</td>\n",
       "      <td>Silverado</td>\n",
       "      <td>2013</td>\n",
       "      <td>25102</td>\n",
       "      <td>0.123075</td>\n",
       "      <td>3089.43</td>\n",
       "    </tr>\n",
       "    <tr>\n",
       "      <th>2</th>\n",
       "      <td>10/21/2022</td>\n",
       "      <td>James Byrd</td>\n",
       "      <td>Jason Hampton</td>\n",
       "      <td>Honda</td>\n",
       "      <td>F-150</td>\n",
       "      <td>2014</td>\n",
       "      <td>30682</td>\n",
       "      <td>0.123758</td>\n",
       "      <td>3797.13</td>\n",
       "    </tr>\n",
       "    <tr>\n",
       "      <th>3</th>\n",
       "      <td>5/18/2022</td>\n",
       "      <td>Mary Hernandez</td>\n",
       "      <td>Julie Kirby</td>\n",
       "      <td>Chevrolet</td>\n",
       "      <td>Civic</td>\n",
       "      <td>2013</td>\n",
       "      <td>41999</td>\n",
       "      <td>0.082959</td>\n",
       "      <td>3484.21</td>\n",
       "    </tr>\n",
       "    <tr>\n",
       "      <th>4</th>\n",
       "      <td>6/23/2022</td>\n",
       "      <td>Paul Coleman</td>\n",
       "      <td>Amanda Brown</td>\n",
       "      <td>Honda</td>\n",
       "      <td>Corolla</td>\n",
       "      <td>2015</td>\n",
       "      <td>36086</td>\n",
       "      <td>0.144156</td>\n",
       "      <td>5202.01</td>\n",
       "    </tr>\n",
       "  </tbody>\n",
       "</table>\n",
       "</div>"
      ],
      "text/plain": [
       "         Date      Salesperson  Customer Name   Car Make  Car Model  Car Year  \\\n",
       "0   6/19/2022  Rebecca Hampton  Joseph Gordon       Ford    Corolla      2013   \n",
       "1  10/30/2022   Dustin Mcclure   George Young     Nissan  Silverado      2013   \n",
       "2  10/21/2022       James Byrd  Jason Hampton      Honda      F-150      2014   \n",
       "3   5/18/2022   Mary Hernandez    Julie Kirby  Chevrolet      Civic      2013   \n",
       "4   6/23/2022     Paul Coleman   Amanda Brown      Honda    Corolla      2015   \n",
       "\n",
       "   Sale Price  Commission Rate  Commission Earned  \n",
       "0       32650         0.106302            3470.76  \n",
       "1       25102         0.123075            3089.43  \n",
       "2       30682         0.123758            3797.13  \n",
       "3       41999         0.082959            3484.21  \n",
       "4       36086         0.144156            5202.01  "
      ]
     },
     "execution_count": 4,
     "metadata": {},
     "output_type": "execute_result"
    }
   ],
   "source": [
    "df.head()"
   ]
  },
  {
   "cell_type": "code",
   "execution_count": null,
   "id": "d89b4408",
   "metadata": {},
   "outputs": [],
   "source": []
  }
 ],
 "metadata": {
  "kernelspec": {
   "display_name": "Python 3 (ipykernel)",
   "language": "python",
   "name": "python3"
  },
  "language_info": {
   "codemirror_mode": {
    "name": "ipython",
    "version": 3
   },
   "file_extension": ".py",
   "mimetype": "text/x-python",
   "name": "python",
   "nbconvert_exporter": "python",
   "pygments_lexer": "ipython3",
   "version": "3.11.5"
  }
 },
 "nbformat": 4,
 "nbformat_minor": 5
}
