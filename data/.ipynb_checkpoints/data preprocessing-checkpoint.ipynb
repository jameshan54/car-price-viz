{
 "cells": [
  {
   "cell_type": "code",
   "execution_count": 1,
   "id": "b9e59ba6",
   "metadata": {},
   "outputs": [
    {
     "name": "stdout",
     "output_type": "stream",
     "text": [
      "Index(['id', 'price', 'url', 'region', 'region_url', 'fuel', 'year',\n",
      "       'manufacturer', 'model', 'condition', 'cylinders', 'odometer',\n",
      "       'title_status', 'transmission', 'VIN', 'drive', 'size', 'type',\n",
      "       'paint_color', 'image_url', 'description', 'county', 'state', 'lat',\n",
      "       'long', 'posting_date'],\n",
      "      dtype='object')\n"
     ]
    }
   ],
   "source": [
    "import pandas as pd\n",
    "import numpy as np\n",
    "\n",
    "df_sample = pd.read_csv(\"used_cars.csv\", nrows=1000)\n",
    "print(df_sample.columns)\n"
   ]
  },
  {
   "cell_type": "code",
   "execution_count": 2,
   "id": "b0a1c9b6",
   "metadata": {},
   "outputs": [],
   "source": [
    "# maybe add geo location later \n",
    "# \"condition\" column - too many null values\n",
    "use_cols = [\"price\", \"year\", \"manufacturer\", \"model\", \"posting_date\", \"odometer\"]\n",
    "df = pd.read_csv(\"used_cars.csv\", usecols=use_cols)\n",
    "df = df.sample(n=100000, random_state=42).reset_index(drop=True)\n"
   ]
  },
  {
   "cell_type": "code",
   "execution_count": 3,
   "id": "0982c165",
   "metadata": {},
   "outputs": [
    {
     "data": {
      "text/html": [
       "<div>\n",
       "<style scoped>\n",
       "    .dataframe tbody tr th:only-of-type {\n",
       "        vertical-align: middle;\n",
       "    }\n",
       "\n",
       "    .dataframe tbody tr th {\n",
       "        vertical-align: top;\n",
       "    }\n",
       "\n",
       "    .dataframe thead th {\n",
       "        text-align: right;\n",
       "    }\n",
       "</style>\n",
       "<table border=\"1\" class=\"dataframe\">\n",
       "  <thead>\n",
       "    <tr style=\"text-align: right;\">\n",
       "      <th></th>\n",
       "      <th>price</th>\n",
       "      <th>year</th>\n",
       "      <th>manufacturer</th>\n",
       "      <th>model</th>\n",
       "      <th>odometer</th>\n",
       "      <th>posting_date</th>\n",
       "    </tr>\n",
       "  </thead>\n",
       "  <tbody>\n",
       "    <tr>\n",
       "      <th>0</th>\n",
       "      <td>36990</td>\n",
       "      <td>2017</td>\n",
       "      <td>ford</td>\n",
       "      <td>f150 super cab lariat</td>\n",
       "      <td>38094</td>\n",
       "      <td>2021-05-02 19:31:06.000</td>\n",
       "    </tr>\n",
       "    <tr>\n",
       "      <th>1</th>\n",
       "      <td>27995</td>\n",
       "      <td>2006</td>\n",
       "      <td>chevrolet</td>\n",
       "      <td>corvette</td>\n",
       "      <td>0</td>\n",
       "      <td>2021-04-29 23:46:35.000</td>\n",
       "    </tr>\n",
       "    <tr>\n",
       "      <th>2</th>\n",
       "      <td>78423</td>\n",
       "      <td>2015</td>\n",
       "      <td>chevrolet</td>\n",
       "      <td>corvette</td>\n",
       "      <td>30200</td>\n",
       "      <td>2021-04-17 19:01:33.000</td>\n",
       "    </tr>\n",
       "    <tr>\n",
       "      <th>3</th>\n",
       "      <td>14000</td>\n",
       "      <td>2013</td>\n",
       "      <td>bmw</td>\n",
       "      <td>328i</td>\n",
       "      <td>92965</td>\n",
       "      <td>2021-04-26 03:53:42.000</td>\n",
       "    </tr>\n",
       "    <tr>\n",
       "      <th>4</th>\n",
       "      <td>676</td>\n",
       "      <td>2019</td>\n",
       "      <td>chevrolet</td>\n",
       "      <td>suburban ls</td>\n",
       "      <td>47105</td>\n",
       "      <td>2021-05-01 17:04:24.000</td>\n",
       "    </tr>\n",
       "  </tbody>\n",
       "</table>\n",
       "</div>"
      ],
      "text/plain": [
       "   price  year manufacturer                  model  odometer  \\\n",
       "0  36990  2017         ford  f150 super cab lariat     38094   \n",
       "1  27995  2006    chevrolet               corvette         0   \n",
       "2  78423  2015    chevrolet               corvette     30200   \n",
       "3  14000  2013          bmw                   328i     92965   \n",
       "4    676  2019    chevrolet            suburban ls     47105   \n",
       "\n",
       "              posting_date  \n",
       "0  2021-05-02 19:31:06.000  \n",
       "1  2021-04-29 23:46:35.000  \n",
       "2  2021-04-17 19:01:33.000  \n",
       "3  2021-04-26 03:53:42.000  \n",
       "4  2021-05-01 17:04:24.000  "
      ]
     },
     "execution_count": 3,
     "metadata": {},
     "output_type": "execute_result"
    }
   ],
   "source": [
    "df.head()"
   ]
  },
  {
   "cell_type": "code",
   "execution_count": 4,
   "id": "5294a3d4",
   "metadata": {},
   "outputs": [
    {
     "name": "stdout",
     "output_type": "stream",
     "text": [
      "<class 'pandas.core.frame.DataFrame'>\n",
      "RangeIndex: 100000 entries, 0 to 99999\n",
      "Data columns (total 6 columns):\n",
      " #   Column        Non-Null Count   Dtype \n",
      "---  ------        --------------   ----- \n",
      " 0   price         100000 non-null  int64 \n",
      " 1   year          100000 non-null  int64 \n",
      " 2   manufacturer  95866 non-null   object\n",
      " 3   model         98767 non-null   object\n",
      " 4   odometer      100000 non-null  int64 \n",
      " 5   posting_date  100000 non-null  object\n",
      "dtypes: int64(3), object(3)\n",
      "memory usage: 4.6+ MB\n",
      "None\n",
      "              price           year      odometer\n",
      "count  1.000000e+05  100000.000000  1.000000e+05\n",
      "mean   1.282717e+05    2006.058080  9.761731e+04\n",
      "std    1.828167e+07     102.656475  2.218214e+05\n",
      "min    0.000000e+00       0.000000  0.000000e+00\n",
      "25%    5.900000e+03    2008.000000  3.621700e+04\n",
      "50%    1.397700e+04    2013.000000  8.433100e+04\n",
      "75%    2.650000e+04    2017.000000  1.329210e+05\n",
      "max    3.736929e+09    2022.000000  1.000000e+07\n",
      "price              0\n",
      "year               0\n",
      "manufacturer    4134\n",
      "model           1233\n",
      "odometer           0\n",
      "posting_date       0\n",
      "dtype: int64\n"
     ]
    }
   ],
   "source": [
    "print(df.info())\n",
    "print(df.describe())\n",
    "print(df.isnull().sum())\n"
   ]
  },
  {
   "cell_type": "code",
   "execution_count": 5,
   "id": "14612ef3",
   "metadata": {},
   "outputs": [],
   "source": [
    "df = df.dropna(subset=[\"manufacturer\", \"model\"])\n",
    "\n",
    "df = df[\n",
    "    (df[\"price\"] > 100) & (df[\"price\"] < 250000) &\n",
    "    (df[\"year\"] >= 1985) & (df[\"year\"] <= 2022) &\n",
    "    (df[\"odometer\"] > 0) & (df[\"odometer\"] < 500000)\n",
    "]\n",
    "\n",
    "df[\"posting_date\"] = pd.to_datetime(df[\"posting_date\"], errors=\"coerce\")\n"
   ]
  },
  {
   "cell_type": "code",
   "execution_count": 6,
   "id": "da6c73f8",
   "metadata": {},
   "outputs": [
    {
     "name": "stdout",
     "output_type": "stream",
     "text": [
      "<class 'pandas.core.frame.DataFrame'>\n",
      "Index: 84405 entries, 0 to 99999\n",
      "Data columns (total 6 columns):\n",
      " #   Column        Non-Null Count  Dtype         \n",
      "---  ------        --------------  -----         \n",
      " 0   price         84405 non-null  int64         \n",
      " 1   year          84405 non-null  int64         \n",
      " 2   manufacturer  84405 non-null  object        \n",
      " 3   model         84405 non-null  object        \n",
      " 4   odometer      84405 non-null  int64         \n",
      " 5   posting_date  84405 non-null  datetime64[ns]\n",
      "dtypes: datetime64[ns](1), int64(3), object(2)\n",
      "memory usage: 4.5+ MB\n",
      "None\n",
      "               price          year       odometer  \\\n",
      "count   84405.000000  84405.000000   84405.000000   \n",
      "mean    19048.463337   2012.310669   92930.171080   \n",
      "min       101.000000   1985.000000       1.000000   \n",
      "25%      7500.000000   2009.000000   38872.000000   \n",
      "50%     15900.000000   2014.000000   87795.000000   \n",
      "75%     27985.000000   2017.000000  135417.000000   \n",
      "max    239900.000000   2022.000000  487389.000000   \n",
      "std     14675.831306      6.005585   63088.485376   \n",
      "\n",
      "                        posting_date  \n",
      "count                          84405  \n",
      "mean   2021-04-24 00:15:48.417475328  \n",
      "min              2021-04-04 07:00:25  \n",
      "25%              2021-04-17 03:01:54  \n",
      "50%              2021-04-26 06:06:14  \n",
      "75%              2021-05-01 13:42:11  \n",
      "max              2021-05-05 03:56:25  \n",
      "std                              NaN  \n",
      "price           0\n",
      "year            0\n",
      "manufacturer    0\n",
      "model           0\n",
      "odometer        0\n",
      "posting_date    0\n",
      "dtype: int64\n"
     ]
    }
   ],
   "source": [
    "print(df.info())\n",
    "print(df.describe())\n",
    "print(df.isnull().sum())"
   ]
  },
  {
   "cell_type": "code",
   "execution_count": 7,
   "id": "5219603f",
   "metadata": {},
   "outputs": [
    {
     "data": {
      "text/html": [
       "<div>\n",
       "<style scoped>\n",
       "    .dataframe tbody tr th:only-of-type {\n",
       "        vertical-align: middle;\n",
       "    }\n",
       "\n",
       "    .dataframe tbody tr th {\n",
       "        vertical-align: top;\n",
       "    }\n",
       "\n",
       "    .dataframe thead th {\n",
       "        text-align: right;\n",
       "    }\n",
       "</style>\n",
       "<table border=\"1\" class=\"dataframe\">\n",
       "  <thead>\n",
       "    <tr style=\"text-align: right;\">\n",
       "      <th></th>\n",
       "      <th>price</th>\n",
       "      <th>year</th>\n",
       "      <th>manufacturer</th>\n",
       "      <th>model</th>\n",
       "      <th>odometer</th>\n",
       "      <th>year_posted</th>\n",
       "      <th>month_posted</th>\n",
       "      <th>year_month_posted</th>\n",
       "      <th>weekday</th>\n",
       "      <th>season</th>\n",
       "    </tr>\n",
       "  </thead>\n",
       "  <tbody>\n",
       "    <tr>\n",
       "      <th>0</th>\n",
       "      <td>36990</td>\n",
       "      <td>2017</td>\n",
       "      <td>ford</td>\n",
       "      <td>f150 super cab lariat</td>\n",
       "      <td>38094</td>\n",
       "      <td>2021</td>\n",
       "      <td>5</td>\n",
       "      <td>2021-05</td>\n",
       "      <td>Sunday</td>\n",
       "      <td>Spring</td>\n",
       "    </tr>\n",
       "    <tr>\n",
       "      <th>2</th>\n",
       "      <td>78423</td>\n",
       "      <td>2015</td>\n",
       "      <td>chevrolet</td>\n",
       "      <td>corvette</td>\n",
       "      <td>30200</td>\n",
       "      <td>2021</td>\n",
       "      <td>4</td>\n",
       "      <td>2021-04</td>\n",
       "      <td>Saturday</td>\n",
       "      <td>Spring</td>\n",
       "    </tr>\n",
       "    <tr>\n",
       "      <th>3</th>\n",
       "      <td>14000</td>\n",
       "      <td>2013</td>\n",
       "      <td>bmw</td>\n",
       "      <td>328i</td>\n",
       "      <td>92965</td>\n",
       "      <td>2021</td>\n",
       "      <td>4</td>\n",
       "      <td>2021-04</td>\n",
       "      <td>Monday</td>\n",
       "      <td>Spring</td>\n",
       "    </tr>\n",
       "    <tr>\n",
       "      <th>4</th>\n",
       "      <td>676</td>\n",
       "      <td>2019</td>\n",
       "      <td>chevrolet</td>\n",
       "      <td>suburban ls</td>\n",
       "      <td>47105</td>\n",
       "      <td>2021</td>\n",
       "      <td>5</td>\n",
       "      <td>2021-05</td>\n",
       "      <td>Saturday</td>\n",
       "      <td>Spring</td>\n",
       "    </tr>\n",
       "    <tr>\n",
       "      <th>5</th>\n",
       "      <td>2744</td>\n",
       "      <td>2002</td>\n",
       "      <td>chrysler</td>\n",
       "      <td>town country</td>\n",
       "      <td>229031</td>\n",
       "      <td>2021</td>\n",
       "      <td>4</td>\n",
       "      <td>2021-04</td>\n",
       "      <td>Tuesday</td>\n",
       "      <td>Spring</td>\n",
       "    </tr>\n",
       "  </tbody>\n",
       "</table>\n",
       "</div>"
      ],
      "text/plain": [
       "   price  year manufacturer                  model  odometer  year_posted  \\\n",
       "0  36990  2017         ford  f150 super cab lariat     38094         2021   \n",
       "2  78423  2015    chevrolet               corvette     30200         2021   \n",
       "3  14000  2013          bmw                   328i     92965         2021   \n",
       "4    676  2019    chevrolet            suburban ls     47105         2021   \n",
       "5   2744  2002     chrysler           town country    229031         2021   \n",
       "\n",
       "   month_posted year_month_posted   weekday  season  \n",
       "0             5           2021-05    Sunday  Spring  \n",
       "2             4           2021-04  Saturday  Spring  \n",
       "3             4           2021-04    Monday  Spring  \n",
       "4             5           2021-05  Saturday  Spring  \n",
       "5             4           2021-04   Tuesday  Spring  "
      ]
     },
     "execution_count": 7,
     "metadata": {},
     "output_type": "execute_result"
    }
   ],
   "source": [
    "df[\"year_posted\"] = df[\"posting_date\"].dt.year\n",
    "df[\"month_posted\"] = df[\"posting_date\"].dt.month\n",
    "df[\"year_month_posted\"] = df[\"posting_date\"].dt.to_period(\"M\")\n",
    "df[\"weekday\"] = df[\"posting_date\"].dt.day_name()\n",
    "\n",
    "def get_season(month):\n",
    "    if month in [3, 4, 5]:\n",
    "        return \"Spring\"\n",
    "    elif month in [6, 7, 8]:\n",
    "        return \"Summer\"\n",
    "    elif month in [9, 10, 11]:\n",
    "        return \"Fall\"\n",
    "    else:\n",
    "        return \"Winter\"\n",
    "\n",
    "df[\"season\"] = df[\"month_posted\"].apply(get_season)\n",
    "df = df.drop(columns=[\"posting_date\"])\n",
    "\n",
    "df.head()"
   ]
  },
  {
   "cell_type": "code",
   "execution_count": 8,
   "id": "f85bad5a",
   "metadata": {},
   "outputs": [
    {
     "data": {
      "text/plain": [
       "manufacturer\n",
       "ford               14504\n",
       "chevrolet          11010\n",
       "toyota              7177\n",
       "honda               4536\n",
       "nissan              3947\n",
       "jeep                3857\n",
       "ram                 3624\n",
       "gmc                 3534\n",
       "bmw                 3161\n",
       "dodge               2706\n",
       "mercedes-benz       2289\n",
       "hyundai             2173\n",
       "subaru              2080\n",
       "volkswagen          1950\n",
       "lexus               1825\n",
       "kia                 1643\n",
       "audi                1636\n",
       "cadillac            1454\n",
       "acura               1340\n",
       "chrysler            1274\n",
       "buick               1171\n",
       "mazda               1145\n",
       "infiniti            1030\n",
       "lincoln              891\n",
       "mitsubishi           709\n",
       "volvo                671\n",
       "mini                 519\n",
       "pontiac              440\n",
       "jaguar               392\n",
       "rover                375\n",
       "porsche              260\n",
       "mercury              243\n",
       "saturn               241\n",
       "alfa-romeo           196\n",
       "tesla                193\n",
       "fiat                 161\n",
       "harley-davidson       27\n",
       "ferrari               14\n",
       "land rover             4\n",
       "aston-martin           3\n",
       "Name: count, dtype: int64"
      ]
     },
     "execution_count": 8,
     "metadata": {},
     "output_type": "execute_result"
    }
   ],
   "source": [
    "df[\"manufacturer\"].value_counts()"
   ]
  },
  {
   "cell_type": "code",
   "execution_count": 9,
   "id": "ef4590f3",
   "metadata": {},
   "outputs": [
    {
     "name": "stdout",
     "output_type": "stream",
     "text": [
      "Unique model count: 10589\n"
     ]
    }
   ],
   "source": [
    "print(f\"Unique model count: {df['model'].nunique()}\")\n",
    "\n"
   ]
  },
  {
   "cell_type": "code",
   "execution_count": 10,
   "id": "664cf033",
   "metadata": {},
   "outputs": [
    {
     "data": {
      "text/plain": [
       "model\n",
       "f-150                                       1650\n",
       "silverado 1500                               997\n",
       "1500                                         872\n",
       "accord                                       654\n",
       "camry                                        630\n",
       "                                            ... \n",
       "yukon 1500 slt 4x4 half ton                    1\n",
       "caravan se 64k miles wheelchair lift ada       1\n",
       "s430 matic                                     1\n",
       "5 series 530i                                  1\n",
       "mkc premiere                                   1\n",
       "Name: count, Length: 10589, dtype: int64"
      ]
     },
     "execution_count": 10,
     "metadata": {},
     "output_type": "execute_result"
    }
   ],
   "source": [
    "df[\"model\"].value_counts()"
   ]
  },
  {
   "cell_type": "code",
   "execution_count": 11,
   "id": "59e6ba15",
   "metadata": {},
   "outputs": [
    {
     "data": {
      "text/plain": [
       "5287"
      ]
     },
     "execution_count": 11,
     "metadata": {},
     "output_type": "execute_result"
    }
   ],
   "source": [
    "(df[\"model\"].value_counts() == 1).sum()\n"
   ]
  },
  {
   "cell_type": "code",
   "execution_count": 12,
   "id": "76809c89",
   "metadata": {},
   "outputs": [
    {
     "data": {
      "text/plain": [
       "84405"
      ]
     },
     "execution_count": 12,
     "metadata": {},
     "output_type": "execute_result"
    }
   ],
   "source": [
    "df.shape[0]"
   ]
  },
  {
   "cell_type": "code",
   "execution_count": 13,
   "id": "bf0b9af9",
   "metadata": {},
   "outputs": [],
   "source": [
    "# Count how many times each cleaned model appears\n",
    "model_counts = df[\"model\"].str.lower().str.strip().value_counts()\n",
    "\n",
    "# Get models that appear only once\n",
    "rare_models = model_counts[model_counts == 1].index\n",
    "\n",
    "# Remove rows with rare models (those that appear only once)\n",
    "df = df[~df[\"model\"].str.lower().str.strip().isin(rare_models)]\n",
    "df = df.reset_index(drop=True)"
   ]
  },
  {
   "cell_type": "code",
   "execution_count": 14,
   "id": "f9fd7ba2",
   "metadata": {},
   "outputs": [
    {
     "name": "stdout",
     "output_type": "stream",
     "text": [
      "Remaining row count: 79118\n",
      "0\n"
     ]
    }
   ],
   "source": [
    "print(f\"Remaining row count: {df.shape[0]}\") # 84405 - 5287 = 79118\n",
    "print((df[\"model\"].str.lower().str.strip().value_counts() == 1).sum())"
   ]
  },
  {
   "cell_type": "code",
   "execution_count": 15,
   "id": "31ced4ad",
   "metadata": {},
   "outputs": [
    {
     "data": {
      "text/html": [
       "<div>\n",
       "<style scoped>\n",
       "    .dataframe tbody tr th:only-of-type {\n",
       "        vertical-align: middle;\n",
       "    }\n",
       "\n",
       "    .dataframe tbody tr th {\n",
       "        vertical-align: top;\n",
       "    }\n",
       "\n",
       "    .dataframe thead th {\n",
       "        text-align: right;\n",
       "    }\n",
       "</style>\n",
       "<table border=\"1\" class=\"dataframe\">\n",
       "  <thead>\n",
       "    <tr style=\"text-align: right;\">\n",
       "      <th></th>\n",
       "      <th>price</th>\n",
       "      <th>year</th>\n",
       "      <th>manufacturer</th>\n",
       "      <th>model</th>\n",
       "      <th>odometer</th>\n",
       "      <th>year_posted</th>\n",
       "      <th>month_posted</th>\n",
       "      <th>year_month_posted</th>\n",
       "      <th>weekday</th>\n",
       "      <th>season</th>\n",
       "    </tr>\n",
       "  </thead>\n",
       "  <tbody>\n",
       "    <tr>\n",
       "      <th>0</th>\n",
       "      <td>36990</td>\n",
       "      <td>2017</td>\n",
       "      <td>ford</td>\n",
       "      <td>f150 super cab lariat</td>\n",
       "      <td>38094</td>\n",
       "      <td>2021</td>\n",
       "      <td>5</td>\n",
       "      <td>2021-05</td>\n",
       "      <td>Sunday</td>\n",
       "      <td>Spring</td>\n",
       "    </tr>\n",
       "    <tr>\n",
       "      <th>1</th>\n",
       "      <td>78423</td>\n",
       "      <td>2015</td>\n",
       "      <td>chevrolet</td>\n",
       "      <td>corvette</td>\n",
       "      <td>30200</td>\n",
       "      <td>2021</td>\n",
       "      <td>4</td>\n",
       "      <td>2021-04</td>\n",
       "      <td>Saturday</td>\n",
       "      <td>Spring</td>\n",
       "    </tr>\n",
       "    <tr>\n",
       "      <th>2</th>\n",
       "      <td>14000</td>\n",
       "      <td>2013</td>\n",
       "      <td>bmw</td>\n",
       "      <td>328i</td>\n",
       "      <td>92965</td>\n",
       "      <td>2021</td>\n",
       "      <td>4</td>\n",
       "      <td>2021-04</td>\n",
       "      <td>Monday</td>\n",
       "      <td>Spring</td>\n",
       "    </tr>\n",
       "    <tr>\n",
       "      <th>3</th>\n",
       "      <td>676</td>\n",
       "      <td>2019</td>\n",
       "      <td>chevrolet</td>\n",
       "      <td>suburban ls</td>\n",
       "      <td>47105</td>\n",
       "      <td>2021</td>\n",
       "      <td>5</td>\n",
       "      <td>2021-05</td>\n",
       "      <td>Saturday</td>\n",
       "      <td>Spring</td>\n",
       "    </tr>\n",
       "    <tr>\n",
       "      <th>4</th>\n",
       "      <td>2744</td>\n",
       "      <td>2002</td>\n",
       "      <td>chrysler</td>\n",
       "      <td>town country</td>\n",
       "      <td>229031</td>\n",
       "      <td>2021</td>\n",
       "      <td>4</td>\n",
       "      <td>2021-04</td>\n",
       "      <td>Tuesday</td>\n",
       "      <td>Spring</td>\n",
       "    </tr>\n",
       "  </tbody>\n",
       "</table>\n",
       "</div>"
      ],
      "text/plain": [
       "   price  year manufacturer                  model  odometer  year_posted  \\\n",
       "0  36990  2017         ford  f150 super cab lariat     38094         2021   \n",
       "1  78423  2015    chevrolet               corvette     30200         2021   \n",
       "2  14000  2013          bmw                   328i     92965         2021   \n",
       "3    676  2019    chevrolet            suburban ls     47105         2021   \n",
       "4   2744  2002     chrysler           town country    229031         2021   \n",
       "\n",
       "   month_posted year_month_posted   weekday  season  \n",
       "0             5           2021-05    Sunday  Spring  \n",
       "1             4           2021-04  Saturday  Spring  \n",
       "2             4           2021-04    Monday  Spring  \n",
       "3             5           2021-05  Saturday  Spring  \n",
       "4             4           2021-04   Tuesday  Spring  "
      ]
     },
     "execution_count": 15,
     "metadata": {},
     "output_type": "execute_result"
    }
   ],
   "source": [
    "df.head()"
   ]
  },
  {
   "cell_type": "code",
   "execution_count": null,
   "id": "617eb58a",
   "metadata": {},
   "outputs": [],
   "source": []
  }
 ],
 "metadata": {
  "kernelspec": {
   "display_name": "Python 3 (ipykernel)",
   "language": "python",
   "name": "python3"
  },
  "language_info": {
   "codemirror_mode": {
    "name": "ipython",
    "version": 3
   },
   "file_extension": ".py",
   "mimetype": "text/x-python",
   "name": "python",
   "nbconvert_exporter": "python",
   "pygments_lexer": "ipython3",
   "version": "3.11.5"
  }
 },
 "nbformat": 4,
 "nbformat_minor": 5
}
